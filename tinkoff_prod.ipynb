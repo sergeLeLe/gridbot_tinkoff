{
  "nbformat": 4,
  "nbformat_minor": 0,
  "metadata": {
    "kernelspec": {
      "display_name": "Python 3",
      "language": "python",
      "name": "python3"
    },
    "language_info": {
      "codemirror_mode": {
        "name": "ipython",
        "version": 3
      },
      "file_extension": ".py",
      "mimetype": "text/x-python",
      "name": "python",
      "nbconvert_exporter": "python",
      "pygments_lexer": "ipython3",
      "version": "3.7.6"
    },
    "latex_envs": {
      "LaTeX_envs_menu_present": true,
      "autoclose": false,
      "autocomplete": true,
      "bibliofile": "biblio.bib",
      "cite_by": "apalike",
      "current_citInitial": 1,
      "eqLabelWithNumbers": true,
      "eqNumInitial": 1,
      "hotkeys": {
        "equation": "Ctrl-E",
        "itemize": "Ctrl-I"
      },
      "labels_anchors": false,
      "latex_user_defs": false,
      "report_style_numbering": false,
      "user_envs_cfg": false
    },
    "colab": {
      "name": "Tinkoff_Prod_final (1).ipynb",
      "provenance": [],
      "collapsed_sections": []
    }
  },
  "cells": [
    {
      "cell_type": "markdown",
      "metadata": {
        "id": "4PXWPUooNYs8"
      },
      "source": [
        "# Production"
      ]
    },
    {
      "cell_type": "markdown",
      "metadata": {
        "id": "djJUqskFPjHt"
      },
      "source": [
        "Необходимые библиотеки и модули для работы алгоритма"
      ]
    },
    {
      "cell_type": "code",
      "metadata": {
        "colab": {
          "base_uri": "https://localhost:8080/"
        },
        "id": "jKMeT88BZkSS",
        "outputId": "3da9b701-986d-4112-ff3e-14fd59607838"
      },
      "source": [
        "%pip install tinvest"
      ],
      "execution_count": null,
      "outputs": [
        {
          "output_type": "stream",
          "text": [
            "Requirement already satisfied: tinvest in /usr/local/lib/python3.7/dist-packages (2.3.3)\n",
            "Requirement already satisfied: aiohttp<4.0,>=3.6 in /usr/local/lib/python3.7/dist-packages (from tinvest) (3.7.4.post0)\n",
            "Requirement already satisfied: requests<3.0,>=2.22 in /usr/local/lib/python3.7/dist-packages (from tinvest) (2.23.0)\n",
            "Requirement already satisfied: pydantic<2,>=1.2 in /usr/local/lib/python3.7/dist-packages (from tinvest) (1.8.1)\n",
            "Requirement already satisfied: chardet<5.0,>=2.0 in /usr/local/lib/python3.7/dist-packages (from aiohttp<4.0,>=3.6->tinvest) (3.0.4)\n",
            "Requirement already satisfied: attrs>=17.3.0 in /usr/local/lib/python3.7/dist-packages (from aiohttp<4.0,>=3.6->tinvest) (20.3.0)\n",
            "Requirement already satisfied: yarl<2.0,>=1.0 in /usr/local/lib/python3.7/dist-packages (from aiohttp<4.0,>=3.6->tinvest) (1.6.3)\n",
            "Requirement already satisfied: multidict<7.0,>=4.5 in /usr/local/lib/python3.7/dist-packages (from aiohttp<4.0,>=3.6->tinvest) (5.1.0)\n",
            "Requirement already satisfied: async-timeout<4.0,>=3.0 in /usr/local/lib/python3.7/dist-packages (from aiohttp<4.0,>=3.6->tinvest) (3.0.1)\n",
            "Requirement already satisfied: typing-extensions>=3.6.5 in /usr/local/lib/python3.7/dist-packages (from aiohttp<4.0,>=3.6->tinvest) (3.7.4.3)\n",
            "Requirement already satisfied: urllib3!=1.25.0,!=1.25.1,<1.26,>=1.21.1 in /usr/local/lib/python3.7/dist-packages (from requests<3.0,>=2.22->tinvest) (1.24.3)\n",
            "Requirement already satisfied: idna<3,>=2.5 in /usr/local/lib/python3.7/dist-packages (from requests<3.0,>=2.22->tinvest) (2.10)\n",
            "Requirement already satisfied: certifi>=2017.4.17 in /usr/local/lib/python3.7/dist-packages (from requests<3.0,>=2.22->tinvest) (2020.12.5)\n"
          ],
          "name": "stdout"
        }
      ]
    },
    {
      "cell_type": "code",
      "metadata": {
        "id": "rxR7I9xpNYs8"
      },
      "source": [
        "import tinvest\n",
        "import time\n",
        "import datetime\n",
        "from math import sqrt"
      ],
      "execution_count": null,
      "outputs": []
    },
    {
      "cell_type": "markdown",
      "metadata": {
        "id": "8mY4zBQ7N7_N"
      },
      "source": [
        "Функция для нахождения процента изменения от исходной цены"
      ]
    },
    {
      "cell_type": "code",
      "metadata": {
        "id": "0ZSTBn00NYs9"
      },
      "source": [
        "def calc_procent(new_price, last_price):\n",
        "    return ((new_price - last_price)/last_price) * 100"
      ],
      "execution_count": null,
      "outputs": []
    },
    {
      "cell_type": "markdown",
      "metadata": {
        "id": "1KgqGkOaOXEV"
      },
      "source": [
        "Функция для нахождения абсолютной разницы от исходной цены"
      ]
    },
    {
      "cell_type": "code",
      "metadata": {
        "id": "Dzcit_p0NYs9"
      },
      "source": [
        "def calc_diff(new_price, last_price):\n",
        "    return round((new_price - last_price), 2)"
      ],
      "execution_count": null,
      "outputs": []
    },
    {
      "cell_type": "markdown",
      "metadata": {
        "id": "8z7KpbqYOfeW"
      },
      "source": [
        "Функция для решения частного случая работы алгоритма (при выкупе нескольких заявок подряд на старте)"
      ]
    },
    {
      "cell_type": "code",
      "metadata": {
        "id": "UMLo3iwtNYs9"
      },
      "source": [
        "def findCount(martingail, count_lots, clots):\n",
        "    d = (count_lots - 1/2*martingail)**2 - 2 * martingail * -clots\n",
        "    x_1 = (-(count_lots - 1/2 * martingail) + sqrt(d))/martingail\n",
        "    x_2 = (-(count_lots - 1/2 * martingail) - sqrt(d))/martingail\n",
        "    return int(x_1 if x_1 >= 0 else x_2)"
      ],
      "execution_count": null,
      "outputs": []
    },
    {
      "cell_type": "markdown",
      "metadata": {
        "id": "td_xEiofNYs-"
      },
      "source": [
        "Формула для функции findCount\n",
        "\n",
        "$$ \n",
        "l\\cdot n\\ +\\ m\\cdot\\frac{1}{2}\\cdot\\left(n-1\\right)\\cdot n\\ -\\ s=0\n",
        "$$\n",
        "\n",
        "m - martingail\n",
        "\n",
        "l - lots per order\n",
        "\n",
        "s - summa\n",
        "\n",
        "n - count - ? (возврат данного значения из функции findCount)"
      ]
    },
    {
      "cell_type": "markdown",
      "metadata": {
        "id": "BNHmUlfuPF68"
      },
      "source": [
        "Функция формирования сетки для 3 случаев:\n",
        "1. При старте запуска алгоритма (от начально заданной цены)\n",
        "2. Когда цена идет вверх на 4% и выше\n",
        "3. Когда цена идет вниз на 4% и ниже"
      ]
    },
    {
      "cell_type": "code",
      "metadata": {
        "id": "jbmGFamsNYs-"
      },
      "source": [
        "def create_grid(first_price, diff_grid, cshorts, clongs, new_grid=False, up = False):\n",
        "    if new_grid and up:\n",
        "        grid = [round(first_price + (2*diff_grid * i),2) for i in range(1, cshorts + 1)]\n",
        "        grid.extend([round(first_price - (0.15 * i),2) for i in range(1, 2)])\n",
        "        grid.extend([round(first_price - (diff_grid * i),2) for i in range(4, clongs + 2 + 1)]) \n",
        "    elif new_grid and not up:\n",
        "        grid = [round(first_price + (0.2 * i),2) for i in range(1, 2)]\n",
        "        grid.extend([round(first_price + (diff_grid * i),2) for i in range(5, cshorts + 3 + 1)])\n",
        "        grid.extend([round(first_price - (diff_grid * i),2) for i in range(1, clongs + 1)])\n",
        "    else:\n",
        "        grid = [round(first_price + (diff_grid * i),2) for i in range(1, cshorts + 1)]\n",
        "        grid.extend([round(first_price - (diff_grid * i),2) for i in range(1, clongs + 1)])\n",
        "    return grid"
      ],
      "execution_count": null,
      "outputs": []
    },
    {
      "cell_type": "markdown",
      "metadata": {
        "id": "xxEIHtaFPqvp"
      },
      "source": [
        "Функция сброса параметров алгоритма при перестроении сетки. Параметры, которые сохраняют информации об открытых шортах/лонгах на данный момент."
      ]
    },
    {
      "cell_type": "code",
      "metadata": {
        "id": "hUoybOc4NYs-"
      },
      "source": [
        "def reset_temp_params():\n",
        "    global orders_short, orders_long, count_short, count_long, dict_short_orders, dict_long_orders, count, clots\n",
        "    orders_short = []\n",
        "    orders_long = []\n",
        "    count_short = 0\n",
        "    count_long = 0\n",
        "    dict_short_orders = {}\n",
        "    dict_long_orders = {}\n",
        "    count = 0\n",
        "    clots = 0"
      ],
      "execution_count": null,
      "outputs": []
    },
    {
      "cell_type": "markdown",
      "metadata": {
        "id": "vvlxfGvEP_jO"
      },
      "source": [
        "Токен из личного кабинета для связи с брокером через API и id брокерского счета"
      ]
    },
    {
      "cell_type": "code",
      "metadata": {
        "id": "CqmOgoubNYs_"
      },
      "source": [
        "token = None # FIXMME\n",
        "account_id = None# FIXME"
      ],
      "execution_count": null,
      "outputs": []
    },
    {
      "cell_type": "markdown",
      "metadata": {
        "id": "K5hBwBSkQNGy"
      },
      "source": [
        "Настройки функционала для работы с API"
      ]
    },
    {
      "cell_type": "code",
      "metadata": {
        "id": "SHXLxty8NYs_"
      },
      "source": [
        "client = tinvest.SyncClient(token, use_sandbox=False)\n",
        "\n",
        "portfolio_api = tinvest.PortfolioApi(client)\n",
        "accounts_api = tinvest.UserApi(client)\n",
        "market_api = tinvest.MarketApi(client)\n",
        "orders_api = tinvest.OrdersApi(client)\n",
        "operations_api = tinvest.OperationsApi(client)"
      ],
      "execution_count": null,
      "outputs": []
    },
    {
      "cell_type": "markdown",
      "metadata": {
        "id": "WZ6xfQ_RQSjN"
      },
      "source": [
        "### Динамические параметры.\n",
        "\n",
        "- **close_diff** - take profit (значение, при котором закрываем сделку)\n",
        "- **first_price** - первоначальная цена\n",
        "- **count_lots_short** - количество лотов при открытии одной сделки в шорт\n",
        "- **count_lots_long** - количество лотов при открытии одной сделки в лонг\n",
        "- **martingail** - значение мартингейл (только арифметическая прогрессия)\n",
        "- **diff_grid** - абсолютное значение деления сетки\n",
        "- **cshorts = 0 // count_lots_short** - вместо нуля подставить общее количество доступных лотов в шорт (определяет размер сетки в шорт)\n",
        "- **clongs = 0 // count_lots_long** - вместо нуля подставить общее количество доступных лотов в лонг (определяет размер сетки в лонг)\n",
        "- **last_day_close_procent** - процент закрытия последнего дня (относительно этого параметра считается процент изменения для перенастройки сетки и сброса всех статических параметром)\n",
        "- **timer** - через какое время делать запрос (50 запросов в минуту - максимум)\n",
        "- **count_new_grid** - сколько раз перестраивать сетку (0 - если ни разу)\n",
        "- **let** - True - если разрешить совершать сделки, False - если нужно видеть только информацию из стакана во время работы алгоритма\n",
        "- **new_grid_lots_short** - количество лотов в большой шорт\n",
        "- **new_grid_lots_long** - количество лотов в большой лонг\n",
        "\n",
        "Опциональные параметры\n",
        "\n",
        "- oborot - оборотка (ставить не менее 3000 - в долларах, когда необходимо учитывать прибыль с комиссией 0.025%)\n",
        "- marga - текущая чистая прибыль (с учетом комиссии)"
      ]
    },
    {
      "cell_type": "code",
      "metadata": {
        "id": "SiqDG_GDNYs_"
      },
      "source": [
        "close_diff = 0.03\n",
        "first_price = 10.1\n",
        "count_lots_short = 50\n",
        "count_lots_long = 100\n",
        "martingail = 0\n",
        "diff_grid = 0.05\n",
        "cshorts = 400 // count_lots_short\n",
        "clongs = 700 // count_lots_long\n",
        "timer = 2\n",
        "let = False\n",
        "\n",
        "# для новых сеток\n",
        "count_new_grid = 0\n",
        "last_day_close_procent = 4\n",
        "new_grid_lots_short = 150\n",
        "new_grid_lots_long = 300\n",
        "\n",
        "# опциональные для статистики\n",
        "oborot = 4000\n",
        "marga = 0"
      ],
      "execution_count": null,
      "outputs": []
    },
    {
      "cell_type": "markdown",
      "metadata": {
        "id": "JxSKmj2aU003"
      },
      "source": [
        "Количество делений в шорт"
      ]
    },
    {
      "cell_type": "code",
      "metadata": {
        "colab": {
          "base_uri": "https://localhost:8080/"
        },
        "id": "BNash5xSNYtA",
        "outputId": "e31a205f-0732-4a7e-c065-263adbd0192e"
      },
      "source": [
        "cshorts"
      ],
      "execution_count": null,
      "outputs": [
        {
          "output_type": "execute_result",
          "data": {
            "text/plain": [
              "8"
            ]
          },
          "metadata": {
            "tags": []
          },
          "execution_count": 11
        }
      ]
    },
    {
      "cell_type": "markdown",
      "metadata": {
        "id": "IK3GKam2U3dQ"
      },
      "source": [
        "Количество делений в лонг"
      ]
    },
    {
      "cell_type": "code",
      "metadata": {
        "colab": {
          "base_uri": "https://localhost:8080/"
        },
        "id": "O7cH7qKwNYtB",
        "outputId": "1daddfa2-2ada-4f80-d514-1ef2daa42c03"
      },
      "source": [
        "clongs"
      ],
      "execution_count": null,
      "outputs": [
        {
          "output_type": "execute_result",
          "data": {
            "text/plain": [
              "7"
            ]
          },
          "metadata": {
            "tags": []
          },
          "execution_count": 12
        }
      ]
    },
    {
      "cell_type": "markdown",
      "metadata": {
        "id": "GjdiFnbXU5mg"
      },
      "source": [
        "### Статические параметры. (не изменяемые)"
      ]
    },
    {
      "cell_type": "code",
      "metadata": {
        "id": "RP7B9mDgNYtB"
      },
      "source": [
        "orders_short = []\n",
        "orders_long = []\n",
        "count_short = 0\n",
        "count_long = 0\n",
        "dict_short_orders = {}\n",
        "dict_long_orders = {}\n",
        "count = 0\n",
        "clots = 0\n",
        "temp_price = 0\n",
        "\n",
        "grid = create_grid(first_price, diff_grid, cshorts, clongs)\n",
        "\n",
        "try:\n",
        "    figi_rrc = market_api.market_search_by_ticker_get(ticker='RRC').json()['payload']['instruments'][0]['figi']\n",
        "except Exception as e:\n",
        "    print(e.args)  # tinvest.Error"
      ],
      "execution_count": null,
      "outputs": []
    },
    {
      "cell_type": "markdown",
      "metadata": {
        "id": "C_dzWb8FVuIu"
      },
      "source": [
        "Сформированная сетка"
      ]
    },
    {
      "cell_type": "code",
      "metadata": {
        "colab": {
          "base_uri": "https://localhost:8080/"
        },
        "id": "9uB2tEKINYtC",
        "outputId": "39a885a2-7f6b-41ba-ed50-720ce1bfb118"
      },
      "source": [
        "grid"
      ],
      "execution_count": null,
      "outputs": [
        {
          "output_type": "execute_result",
          "data": {
            "text/plain": [
              "[10.15,\n",
              " 10.2,\n",
              " 10.25,\n",
              " 10.3,\n",
              " 10.35,\n",
              " 10.4,\n",
              " 10.45,\n",
              " 10.5,\n",
              " 10.05,\n",
              " 10.0,\n",
              " 9.95,\n",
              " 9.9,\n",
              " 9.85,\n",
              " 9.8,\n",
              " 9.75]"
            ]
          },
          "metadata": {
            "tags": []
          },
          "execution_count": 14
        }
      ]
    },
    {
      "cell_type": "markdown",
      "metadata": {
        "id": "A_r3JVHFV7LD"
      },
      "source": [
        "Основной блок работы алгоритма"
      ]
    },
    {
      "cell_type": "code",
      "metadata": {
        "id": "volKLOW2NYtB"
      },
      "source": [
        "try:\n",
        "    while True:\n",
        "        try:\n",
        "            orderbook = market_api.market_orderbook_get(figi=figi_rrc, depth=1).json()\n",
        "        except Exception as e:\n",
        "            print('Ошибка получения Orderbook: {}'.format(e.args))\n",
        "            time.sleep(timer)\n",
        "            continue\n",
        "        \n",
        "        ask = orderbook['payload']['asks'][0]['price']\n",
        "        bid = orderbook['payload']['bids'][0]['price']\n",
        "\n",
        "        new_price = bid if bid >= first_price else ask\n",
        "\n",
        "        print('Цена текущая:', str(new_price), '| Цена начальная:', str(first_price))\n",
        "        print('Ask:', str(ask), '| Bid:', str(bid))\n",
        "        \n",
        "        procent = calc_procent(new_price, first_price)\n",
        "        \n",
        "        if count_new_grid != 0:\n",
        "            if abs(procent) >= last_day_close_procent and procent > 0:\n",
        "                if orders_short:\n",
        "                    for order in orders_short:\n",
        "                        if dict_short_orders.get(order):\n",
        "                            body_order = tinvest.schemas.MarketOrderRequest(lots=dict_short_orders[order], operation=tinvest.schemas.OperationType.buy)\n",
        "                            orders_api.orders_market_order_post(figi=figi_rrc, broker_account_id=account_id, body=body_order)\n",
        "                    reset_temp_params()\n",
        "                    body_order = tinvest.schemas.MarketOrderRequest(lots=new_grid_lots_long, operation=tinvest.schemas.OperationType.buy)\n",
        "                    orders_api.orders_market_order_post(figi=figi_rrc, broker_account_id=account_id, body=body_order)\n",
        "                    temp_price = first_price\n",
        "                    let = False\n",
        "                    print('ЗАКРЫВАЕМ ВСЕ ШОРТЫ, ВА-БАНК НА ЛОНГ')\n",
        "                    continue\n",
        "                if abs(procent) >= (last_day_close_procent + 1) and procent > 0 and not let:\n",
        "                    body_order = tinvest.schemas.MarketOrderRequest(lots=new_grid_lots_long, operation=tinvest.schemas.OperationType.sell)\n",
        "                    orders_api.orders_market_order_post(figi=figi_rrc, broker_account_id=account_id, body=body_order)\n",
        "                    first_price = new_price\n",
        "                    count_new_grid -= 1\n",
        "                    let = True\n",
        "                    grid = create_grid(first_price, 0.05, cshorts, clongs, True, True)\n",
        "                    print('ЗАКРЫВАЕМ ВА-БАНК ЛОНГ, first_price: {}'.format(first_price))\n",
        "                    continue\n",
        "\n",
        "            if not let and abs(procent) <= (last_day_close_procent - 1) and procent > 0:\n",
        "                body_order = tinvest.schemas.MarketOrderRequest(lots=new_grid_lots_long, operation=tinvest.schemas.OperationType.sell)\n",
        "                orders_api.orders_market_order_post(figi=figi_rrc, broker_account_id=account_id, body=body_order)\n",
        "                first_price = temp_price\n",
        "                reset_temp_params()\n",
        "                grid = create_grid(first_price, diff_grid, cshorts, clongs)\n",
        "                let = True\n",
        "                print('СТОП-ЛОСС ВА-БАНК ЛОНГ, first_price: {}'.format(first_price))\n",
        "                continue\n",
        "\n",
        "\n",
        "            if abs(procent) >= last_day_close_procent and procent < 0:\n",
        "                if orders_long:\n",
        "                    for order in orders_long:\n",
        "                        if dict_long_orders.get(order):\n",
        "                            body_order = tinvest.schemas.MarketOrderRequest(lots=dict_long_orders[order], operation=tinvest.schemas.OperationType.sell)\n",
        "                            orders_api.orders_market_order_post(figi=figi_rrc, broker_account_id=account_id, body=body_order)\n",
        "                    reset_temp_params()\n",
        "                    body_order = tinvest.schemas.MarketOrderRequest(lots=new_grid_lots_short, operation=tinvest.schemas.OperationType.sell)\n",
        "                    orders_api.orders_market_order_post(figi=figi_rrc, broker_account_id=account_id, body=body_order)\n",
        "                    temp_price = first_price\n",
        "                    let = False\n",
        "                    print('ЗАКРЫВАЕМ ВСЕ ЛОНГИ, ВА-БАНК НА ШОРТ')\n",
        "                    continue\n",
        "                if abs(procent) >= (last_day_close_procent + 1) and procent < 0 and not let:\n",
        "                    body_order = tinvest.schemas.MarketOrderRequest(lots=new_grid_lots_short, operation=tinvest.schemas.OperationType.buy)\n",
        "                    orders_api.orders_market_order_post(figi=figi_rrc, broker_account_id=account_id, body=body_order)\n",
        "                    first_price = new_price\n",
        "                    count_new_grid -= 1\n",
        "                    let = True\n",
        "                    grid = create_grid(first_price, 0.05, cshorts, clongs, True, False)\n",
        "                    print('ЗАКРЫВАЕМ ВА-БАНК ШОРТ, first_price: {}'.format(first_price))\n",
        "                    continue\n",
        "\n",
        "            if not let and abs(procent) <= (last_day_close_procent - 1) and procent < 0:\n",
        "                body_order = tinvest.schemas.MarketOrderRequest(lots=new_grid_lots_short, operation=tinvest.schemas.OperationType.buy)\n",
        "                orders_api.orders_market_order_post(figi=figi_rrc, broker_account_id=account_id, body=body_order)\n",
        "                first_price = temp_price\n",
        "                reset_temp_params()\n",
        "                grid = create_grid(first_price, diff_grid, cshorts, clongs)\n",
        "                let = True\n",
        "                print('СТОП-ЛОСС ВА-БАНК ШОРТ, first_price: {}'.format(first_price))\n",
        "                continue\n",
        "            \n",
        "        if let:\n",
        "            if procent > 0: # SHORT\n",
        "                if new_price not in orders_short:\n",
        "                    for grid_order in grid[:cshorts]:\n",
        "                        if new_price >= grid_order and ((new_price > max(orders_short) and grid_order > max(orders_short)) if orders_short else True):\n",
        "                            body_order = tinvest.schemas.MarketOrderRequest(lots=(count_lots_short + int(martingail*count)), operation=tinvest.schemas.OperationType.sell)\n",
        "                            try:\n",
        "                                count_short += orders_api.orders_market_order_post(figi=figi_rrc, broker_account_id=account_id, body=body_order).json()['payload']['executedLots']\n",
        "                            except Exception as e:\n",
        "                                print('Exception Short open: {}'.format(e.args))\n",
        "                                time.sleep(timer)\n",
        "                                continue\n",
        "                            oborot += (count_lots_short + int(martingail*count)) * new_price\n",
        "                            marga -= (count_lots_short + int(martingail*count)) * new_price * 0.0005 if oborot <= 200000 else (count_lots_short + int(martingail*count)) * new_price * 0.00025 #комиссия\n",
        "                            count += 1\n",
        "                    if count_short != 0:\n",
        "                        print('Открываем ШОРТ: {} | Кол-во заявок: {} | Всего заявок: {} | Оборотка: {} | Профит: {}'.format(new_price, count_short, count, oborot, marga))\n",
        "                        print()\n",
        "                        dict_short_orders[new_price] = count_short\n",
        "                        orders_short.append(new_price)\n",
        "                        count_short = 0\n",
        "            elif procent < 0: # LONG\n",
        "                if new_price not in orders_long:\n",
        "                    for grid_order in grid[-clongs:]:\n",
        "                        if grid_order >= new_price and ((new_price < min(orders_long) and grid_order < min(orders_long)) if orders_long else True):\n",
        "                            body_order = tinvest.schemas.MarketOrderRequest(lots=(count_lots_long + int(martingail*count)), operation=tinvest.schemas.OperationType.buy)\n",
        "                            try:\n",
        "                                count_long += orders_api.orders_market_order_post(figi=figi_rrc, broker_account_id=account_id, body=body_order).json()['payload']['executedLots']\n",
        "                            except Exception as e:\n",
        "                                print('Exception Long open: {}'.format(e.args))\n",
        "                                time.sleep(timer)\n",
        "                                continue\n",
        "                            oborot += (count_lots_long + int(martingail*count)) * new_price\n",
        "                            marga -= (count_lots_long + int(martingail*count)) * new_price * 0.0005 if oborot <= 200000 else (count_lots_long + int(martingail*count)) * new_price * 0.00025 #комиссия\n",
        "                            count += 1\n",
        "                    if count_long != 0:\n",
        "                        print('Открываем ЛОНГ: {} | Кол-во заявок: {} | Всего заявок: {} | Оборотка: {} | Профит: {}'.format(new_price, count_long, count, oborot, marga))\n",
        "                        print()\n",
        "                        dict_long_orders[new_price] = count_long\n",
        "                        orders_long.append(new_price)\n",
        "                        count_long = 0\n",
        "\n",
        "            if orders_short:\n",
        "                for num_order in range(len(orders_short)-1, -1, -1):\n",
        "                    diff = calc_diff(ask, orders_short[num_order])\n",
        "                    if abs(diff) >= close_diff and diff < 0:\n",
        "                        body_order = tinvest.schemas.MarketOrderRequest(lots=dict_short_orders.get(orders_short[num_order]), operation=tinvest.schemas.OperationType.buy)\n",
        "                        try:\n",
        "                            if len(orders_short) != count and martingail != 0:\n",
        "                                clots = orders_api.orders_market_order_post(figi=figi_rrc, broker_account_id=account_id, body=body_order).json()['payload']['executedLots']\n",
        "                                count -= findCount(martingail, count_lots_short, clots)\n",
        "                            else:\n",
        "                                count -= orders_api.orders_market_order_post(figi=figi_rrc, broker_account_id=account_id, body=body_order).json()['payload']['executedLots'] / (count_lots_short + int(martingail*(count - 1)))\n",
        "                        except Exception as e:\n",
        "                            print('Exception Short close: {}'.format(e.args))\n",
        "                            time.sleep(timer)\n",
        "                            continue\n",
        "\n",
        "                        oborot += dict_short_orders.get(orders_short[num_order]) * ask\n",
        "                        marga += orders_short[num_order] * dict_short_orders.get(orders_short[num_order]) - ask * dict_short_orders.get(orders_short[num_order])\n",
        "                        marga -= dict_short_orders.get(orders_short[num_order]) * ask * 0.0005 if oborot <= 200000 else dict_short_orders.get(orders_short[num_order]) * ask * 0.00025\n",
        "\n",
        "                        print('Price: {} | Закрываем {} ШОРТ: {} | Всего заявок: {} | Оборотка: {} | Профит: {}'.format(ask, dict_short_orders.get(orders_short[num_order]), orders_short[num_order], count, oborot, marga))\n",
        "                        print()\n",
        "                        orders_short.remove(orders_short[num_order])\n",
        "            if orders_long:\n",
        "                for num_order in range(len(orders_long)-1, -1, -1):\n",
        "                    diff = calc_diff(bid, orders_long[num_order])\n",
        "                    if abs(diff) >= close_diff and diff > 0:\n",
        "                        body_order = tinvest.schemas.MarketOrderRequest(lots=dict_long_orders.get(orders_long[num_order]), operation=tinvest.schemas.OperationType.sell)\n",
        "                        try:\n",
        "                            if len(orders_long) != count and martingail != 0:\n",
        "                                clots = orders_api.orders_market_order_post(figi=figi_rrc, broker_account_id=account_id, body=body_order).json()['payload']['executedLots']\n",
        "                                count -= findCount(martingail, count_lots_long, clots)\n",
        "                            else:\n",
        "                                count -= orders_api.orders_market_order_post(figi=figi_rrc, broker_account_id=account_id, body=body_order).json()['payload']['executedLots'] / (count_lots_long + int(martingail*(count - 1)))\n",
        "                        except Exception as e:\n",
        "                            print('Exception Long close: {}'.format(e.args))\n",
        "                            time.sleep(timer)\n",
        "                            continue\n",
        "\n",
        "                        oborot += dict_long_orders.get(orders_long[num_order]) * bid\n",
        "                        marga += bid * dict_long_orders.get(orders_long[num_order]) - orders_long[num_order] * dict_long_orders.get(orders_long[num_order])\n",
        "                        marga -= dict_long_orders.get(orders_long[num_order]) * bid * 0.0005 if oborot <= 200000 else dict_long_orders.get(orders_long[num_order]) * bid * 0.00025\n",
        "\n",
        "                        print('Price: {} | Закрываем {} ЛОНГ: {} | Всего заявок: {} | Оборотка: {} | Профит: {}'.format(bid, dict_long_orders.get(orders_long[num_order]), orders_long[num_order], count, oborot, marga))\n",
        "                        print()\n",
        "                        orders_long.remove(orders_long[num_order])\n",
        "        \n",
        "        time.sleep(timer)\n",
        "except Exception as e:\n",
        "    print(e.args)"
      ],
      "execution_count": null,
      "outputs": []
    },
    {
      "cell_type": "markdown",
      "metadata": {
        "id": "sBt1WgSTWe7-"
      },
      "source": [
        "Прокомпилировать нижние блоки для выводы информации об оставшихся сделках"
      ]
    },
    {
      "cell_type": "code",
      "metadata": {
        "id": "F5zlsFXENYtD"
      },
      "source": [
        "count"
      ],
      "execution_count": null,
      "outputs": []
    },
    {
      "cell_type": "code",
      "metadata": {
        "id": "dihlnrB6NYtD"
      },
      "source": [
        "orders_short # цены, по которым открывали шорты"
      ],
      "execution_count": null,
      "outputs": []
    },
    {
      "cell_type": "code",
      "metadata": {
        "id": "SiNZX4TSNYtE"
      },
      "source": [
        "orders_long # цены, по которым открывали лонги"
      ],
      "execution_count": null,
      "outputs": []
    },
    {
      "cell_type": "code",
      "metadata": {
        "id": "-R5yPdw7NYtE"
      },
      "source": [
        "dict_short_orders # количество соответствующих открытых шортов"
      ],
      "execution_count": null,
      "outputs": []
    },
    {
      "cell_type": "code",
      "metadata": {
        "id": "lqdVRDHjNYtE"
      },
      "source": [
        "dict_long_orders # количество соответствующих открытых лонгов"
      ],
      "execution_count": null,
      "outputs": []
    },
    {
      "cell_type": "code",
      "metadata": {
        "id": "qHw8lxadc5Qr"
      },
      "source": [
        ""
      ],
      "execution_count": null,
      "outputs": []
    }
  ]
}